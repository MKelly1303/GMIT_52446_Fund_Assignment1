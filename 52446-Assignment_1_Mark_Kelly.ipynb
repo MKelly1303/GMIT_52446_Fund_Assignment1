{
 "cells": [
  {
   "cell_type": "markdown",
   "metadata": {},
   "source": [
    "# GMIT 52446 Fundamentals of Data Analysis - Mark Kelly\n",
    "# Assignment 1 - Anscombe's Quartet\n",
    "\n"
   ]
  },
  {
   "cell_type": "markdown",
   "metadata": {},
   "source": [
    "## Problem statement\n",
    "The following assignment concerns the well-known Anscombe’s quartet dataset. You\n",
    "are required to create a Jupyter notebook analysing the dataset. There are four\n",
    "distinct tasks to be carried out in your Jupyter notebook.\n",
    "1. Explain the background to the dataset – who created it, when it was created, and\n",
    "any speculation you can find regarding how it might have been created.\n",
    "2. Plot the interesting aspects of the dataset.\n",
    "3. Calculate the descriptive statistics of the variables in the dataset.\n",
    "4. Explain why the dataset is interesting, referring to the plots and statistics above."
   ]
  },
  {
   "cell_type": "markdown",
   "metadata": {},
   "source": [
    "## 1 - Explain the background\n",
    "\n",
    "\n",
    "\n",
    "<img src=\"Francis_Anscombe.jpeg\",width=180,height=400, align=left>"
   ]
  },
  {
   "cell_type": "code",
   "execution_count": null,
   "metadata": {
    "collapsed": true
   },
   "outputs": [],
   "source": []
  },
  {
   "cell_type": "markdown",
   "metadata": {},
   "source": [
    "## 2 - Dataset Plots"
   ]
  },
  {
   "cell_type": "code",
   "execution_count": 14,
   "metadata": {
    "collapsed": true
   },
   "outputs": [],
   "source": [
    "import matplotlib.pyplot as plt\n",
    "import pandas as pd\n",
    "% matplotlib inline"
   ]
  },
  {
   "cell_type": "code",
   "execution_count": 7,
   "metadata": {},
   "outputs": [],
   "source": [
    "df = pd.read_csv(\"Anscombe_dataset.csv\", names=['x1', 'y1', 'x2', 'y2', 'x3', 'y3', 'x4', 'y4'])"
   ]
  },
  {
   "cell_type": "code",
   "execution_count": 9,
   "metadata": {},
   "outputs": [
    {
     "name": "stdout",
     "output_type": "stream",
     "text": [
      "    x1     y1  x2    y2  x3     y3  x4     y4\n",
      "0   10   8.04  10  9.14  10   7.46   8   6.58\n",
      "1    8   6.95   8  8.14   8   6.77   8   5.76\n",
      "2   13   7.58  13  8.74  13  12.74   8   7.71\n",
      "3    9   8.81   9  8.77   9   7.11   8   8.84\n",
      "4   11   8.33  11  9.26  11   7.81   8   8.47\n",
      "5   14   9.96  14  8.10  14   8.84   8   7.04\n",
      "6    6   7.24   6  6.13   6   6.08   8   5.25\n",
      "7    4   4.26   4  3.10   4   5.39  19  12.50\n",
      "8   12  10.84  12  9.13  12   8.15   8   5.56\n",
      "9    7   4.82   7  7.26   7   6.42   8   7.91\n",
      "10   5   5.68   5  4.74   5   5.73   8   6.89\n"
     ]
    }
   ],
   "source": [
    "print(df)"
   ]
  },
  {
   "cell_type": "code",
   "execution_count": 22,
   "metadata": {},
   "outputs": [],
   "source": [
    "x1 = df['x1']\n",
    "y1 = df['y1']\n",
    "x2 = df['x2']\n",
    "y2 = df['y2']\n",
    "x3 = df['x3']\n",
    "y3 = df['y3']\n",
    "x4 = df['x4']\n",
    "y4 = df['y4']"
   ]
  },
  {
   "cell_type": "code",
   "execution_count": 47,
   "metadata": {},
   "outputs": [
    {
     "name": "stdout",
     "output_type": "stream",
     "text": [
      "0      6.58\n",
      "1      5.76\n",
      "2      7.71\n",
      "3      8.84\n",
      "4      8.47\n",
      "5      7.04\n",
      "6      5.25\n",
      "7     12.50\n",
      "8      5.56\n",
      "9      7.91\n",
      "10     6.89\n",
      "Name: y4, dtype: float64\n"
     ]
    }
   ],
   "source": [
    "print(y4)"
   ]
  },
  {
   "cell_type": "code",
   "execution_count": null,
   "metadata": {},
   "outputs": [],
   "source": []
  },
  {
   "cell_type": "code",
   "execution_count": null,
   "metadata": {
    "collapsed": true
   },
   "outputs": [],
   "source": []
  },
  {
   "cell_type": "code",
   "execution_count": null,
   "metadata": {
    "collapsed": true
   },
   "outputs": [],
   "source": []
  },
  {
   "cell_type": "markdown",
   "metadata": {},
   "source": [
    "## 3 - Descriptive Statistics"
   ]
  },
  {
   "cell_type": "code",
   "execution_count": null,
   "metadata": {
    "collapsed": true
   },
   "outputs": [],
   "source": []
  },
  {
   "cell_type": "markdown",
   "metadata": {},
   "source": [
    "## 4 - Dataset Explanation"
   ]
  },
  {
   "cell_type": "code",
   "execution_count": null,
   "metadata": {
    "collapsed": true
   },
   "outputs": [],
   "source": []
  }
 ],
 "metadata": {
  "kernelspec": {
   "display_name": "Python 3",
   "language": "python",
   "name": "python3"
  },
  "language_info": {
   "codemirror_mode": {
    "name": "ipython",
    "version": 3
   },
   "file_extension": ".py",
   "mimetype": "text/x-python",
   "name": "python",
   "nbconvert_exporter": "python",
   "pygments_lexer": "ipython3",
   "version": "3.6.3"
  }
 },
 "nbformat": 4,
 "nbformat_minor": 2
}
